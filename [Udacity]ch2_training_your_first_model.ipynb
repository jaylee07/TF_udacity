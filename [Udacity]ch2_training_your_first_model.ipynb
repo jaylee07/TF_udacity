{
  "nbformat": 4,
  "nbformat_minor": 0,
  "metadata": {
    "colab": {
      "name": "[Udacity]ch2.training_your_first_model.ipynb",
      "version": "0.3.2",
      "provenance": [],
      "include_colab_link": true
    },
    "kernelspec": {
      "name": "python3",
      "display_name": "Python 3"
    },
    "accelerator": "GPU"
  },
  "cells": [
    {
      "cell_type": "markdown",
      "metadata": {
        "id": "view-in-github",
        "colab_type": "text"
      },
      "source": [
        "<a href=\"https://colab.research.google.com/github/jaylee07/TF_udacity/blob/master/%5BUdacity%5Dch2_training_your_first_model.ipynb\" target=\"_parent\"><img src=\"https://colab.research.google.com/assets/colab-badge.svg\" alt=\"Open In Colab\"/></a>"
      ]
    },
    {
      "metadata": {
        "id": "cPn6tvtWWtoX",
        "colab_type": "code",
        "colab": {}
      },
      "cell_type": "code",
      "source": [
        "import numpy as np\n",
        "import tensorflow as tf\n",
        "import matplotlib.pyplot as plt\n",
        "%matplotlib inline"
      ],
      "execution_count": 0,
      "outputs": []
    },
    {
      "metadata": {
        "id": "8juV0AsdW8i2",
        "colab_type": "code",
        "colab": {}
      },
      "cell_type": "code",
      "source": [
        "tf.logging.set_verbosity(tf.logging.ERROR)"
      ],
      "execution_count": 0,
      "outputs": []
    },
    {
      "metadata": {
        "id": "6fjE7QX6XqBp",
        "colab_type": "text"
      },
      "cell_type": "markdown",
      "source": [
        "## Set up training data"
      ]
    },
    {
      "metadata": {
        "id": "TYVgCC6dW9oX",
        "colab_type": "code",
        "outputId": "953b1ace-8a98-4906-8a56-eb4b44015bb5",
        "colab": {
          "base_uri": "https://localhost:8080/",
          "height": 140
        }
      },
      "cell_type": "code",
      "source": [
        "celsius_q    = np.array([-40, -10,  0,  8, 15, 22,  38],  dtype=float)\n",
        "fahrenheit_a = np.array([-40,  14, 32, 46, 59, 72, 100],  dtype=float)\n",
        "\n",
        "for i,c in enumerate(celsius_q):\n",
        "  print(\"{} degrees Celsius = {} degrees Fahrenheit\".format(c, fahrenheit_a[i]))"
      ],
      "execution_count": 0,
      "outputs": [
        {
          "output_type": "stream",
          "text": [
            "-40.0 degrees Celsius = -40.0 degrees Fahrenheit\n",
            "-10.0 degrees Celsius = 14.0 degrees Fahrenheit\n",
            "0.0 degrees Celsius = 32.0 degrees Fahrenheit\n",
            "8.0 degrees Celsius = 46.0 degrees Fahrenheit\n",
            "15.0 degrees Celsius = 59.0 degrees Fahrenheit\n",
            "22.0 degrees Celsius = 72.0 degrees Fahrenheit\n",
            "38.0 degrees Celsius = 100.0 degrees Fahrenheit\n"
          ],
          "name": "stdout"
        }
      ]
    },
    {
      "metadata": {
        "id": "L4tgRXaOX50J",
        "colab_type": "text"
      },
      "cell_type": "markdown",
      "source": [
        "## Create our new model(Dense network)\n"
      ]
    },
    {
      "metadata": {
        "id": "G4PLxkJ9XzIS",
        "colab_type": "code",
        "colab": {}
      },
      "cell_type": "code",
      "source": [
        "layer0 = tf.keras.layers.Dense(units=1, input_shape=[1], activation='relu')\n",
        "model = tf.keras.Sequential([layer0])"
      ],
      "execution_count": 0,
      "outputs": []
    },
    {
      "metadata": {
        "id": "2tKeAMPOYN-Q",
        "colab_type": "code",
        "colab": {}
      },
      "cell_type": "code",
      "source": [
        "model.compile(optimizer = tf.keras.optimizers.Adam(0.1), \n",
        "              loss = 'mean_squared_error')"
      ],
      "execution_count": 0,
      "outputs": []
    },
    {
      "metadata": {
        "id": "UpX5wsnmaDyz",
        "colab_type": "text"
      },
      "cell_type": "markdown",
      "source": [
        "## Train the model\n",
        "model.fit()"
      ]
    },
    {
      "metadata": {
        "id": "lCoHxaDkZkmq",
        "colab_type": "code",
        "colab": {}
      },
      "cell_type": "code",
      "source": [
        "hist = model.fit(x = celsius_q, y = fahrenheit_a, epochs = 500, verbose=False)"
      ],
      "execution_count": 0,
      "outputs": []
    },
    {
      "metadata": {
        "id": "AvY9NXoVaKmm",
        "colab_type": "code",
        "outputId": "4f6f12f3-69ba-487a-edbd-21e4508f394d",
        "colab": {
          "base_uri": "https://localhost:8080/",
          "height": 297
        }
      },
      "cell_type": "code",
      "source": [
        "plt.plot(hist.history['loss'])\n",
        "plt.xlabel('epoch')\n",
        "plt.ylabel('loss')"
      ],
      "execution_count": 0,
      "outputs": [
        {
          "output_type": "execute_result",
          "data": {
            "text/plain": [
              "Text(0, 0.5, 'loss')"
            ]
          },
          "metadata": {
            "tags": []
          },
          "execution_count": 13
        },
        {
          "output_type": "display_data",
          "data": {
            "image/png": "[encoded data removed]",
            "text/plain": [
              "<Figure size 432x288 with 1 Axes>"
            ]
          },
          "metadata": {
            "tags": []
          }
        }
      ]
    },
    {
      "metadata": {
        "id": "4vTBnCBPbhGC",
        "colab_type": "text"
      },
      "cell_type": "markdown",
      "source": [
        "## Use the model to predict values\n",
        "model.predict()"
      ]
    },
    {
      "metadata": {
        "id": "KvqX8D_zbVB0",
        "colab_type": "code",
        "outputId": "1c7f1bd2-7e7c-45dd-c874-eeb567a9cd5e",
        "colab": {
          "base_uri": "https://localhost:8080/",
          "height": 34
        }
      },
      "cell_type": "code",
      "source": [
        "print(model.predict([100.0]))"
      ],
      "execution_count": 0,
      "outputs": [
        {
          "output_type": "stream",
          "text": [
            "[[211.77702]]\n"
          ],
          "name": "stdout"
        }
      ]
    },
    {
      "metadata": {
        "id": "rr57cA3db1V_",
        "colab_type": "text"
      },
      "cell_type": "markdown",
      "source": [
        "## Looking at the layers weight\n",
        "layer.get_weights()"
      ]
    },
    {
      "metadata": {
        "id": "L33-f2YgboyA",
        "colab_type": "code",
        "outputId": "36cb18ec-cd21-4a9f-f8a2-b98d35d18d14",
        "colab": {
          "base_uri": "https://localhost:8080/",
          "height": 34
        }
      },
      "cell_type": "code",
      "source": [
        "print(layer0.get_weights())"
      ],
      "execution_count": 0,
      "outputs": [
        {
          "output_type": "stream",
          "text": [
            "[array([[1.798635]], dtype=float32), array([31.913532], dtype=float32)]\n"
          ],
          "name": "stdout"
        }
      ]
    },
    {
      "metadata": {
        "id": "RXRfw2D3cGDa",
        "colab_type": "text"
      },
      "cell_type": "markdown",
      "source": [
        "원래, F = 1.8 * C + 32이다.\n",
        "여기서, 학습한 결과는 F = 1.7986 * C + 31.9135로, 비슷하게 나오는 것을 볼 수 있음"
      ]
    },
    {
      "metadata": {
        "id": "BMr0aAvvcxsT",
        "colab_type": "text"
      },
      "cell_type": "markdown",
      "source": [
        "## Additional experiment"
      ]
    },
    {
      "metadata": {
        "id": "IDRi5MHJb9h7",
        "colab_type": "code",
        "colab": {}
      },
      "cell_type": "code",
      "source": [
        "add_l0 = tf.keras.layers.Dense(units = 4, input_shape = [1])\n",
        "add_l1 = tf.keras.layers.Dense(units = 4)\n",
        "add_l2 = tf.keras.layers.Dense(units = 1)\n",
        "add_model = tf.keras.Sequential([add_l0, add_l1, add_l2])"
      ],
      "execution_count": 0,
      "outputs": []
    },
    {
      "metadata": {
        "id": "txk9CCSbdHFZ",
        "colab_type": "code",
        "outputId": "a9934874-7d42-47c6-ac85-e6e011b295d7",
        "colab": {
          "base_uri": "https://localhost:8080/",
          "height": 34
        }
      },
      "cell_type": "code",
      "source": [
        "add_model.compile(optimizer = tf.keras.optimizers.Adam(0.1), \n",
        "                  loss = 'mean_squared_error')\n",
        "add_hist = add_model.fit(x = celsius_q, y = fahrenheit_a, \n",
        "                         epochs = 500, verbose=False)\n",
        "print(add_model.predict([100.0]))"
      ],
      "execution_count": 0,
      "outputs": [
        {
          "output_type": "stream",
          "text": [
            "[[211.74742]]\n"
          ],
          "name": "stdout"
        }
      ]
    },
    {
      "metadata": {
        "id": "-FtnJSI5dY8F",
        "colab_type": "code",
        "outputId": "08cd7dbb-a171-413e-d12a-5bd8711516db",
        "colab": {
          "base_uri": "https://localhost:8080/",
          "height": 297
        }
      },
      "cell_type": "code",
      "source": [
        "plt.plot(add_hist.history['loss'])\n",
        "plt.xlabel('epoch')\n",
        "plt.ylabel('loss')\n",
        "print(f'100 Celsisus degree = {100*1.8 + 32:.4f} in real, {add_model.predict([100.0])[0].item():.4f} in prediction')"
      ],
      "execution_count": 0,
      "outputs": [
        {
          "output_type": "stream",
          "text": [
            "100 Celsisus degree = 212.0000 in real, 211.7474 in prediction\n"
          ],
          "name": "stdout"
        },
        {
          "output_type": "display_data",
          "data": {
            "image/png": "[encoded data removed]",
            "text/plain": [
              "<Figure size 432x288 with 1 Axes>"
            ]
          },
          "metadata": {
            "tags": []
          }
        }
      ]
    },
    {
      "metadata": {
        "id": "AGb2WHh7ePaC",
        "colab_type": "code",
        "colab": {}
      },
      "cell_type": "code",
      "source": [
        ""
      ],
      "execution_count": 0,
      "outputs": []
    }
  ]
}